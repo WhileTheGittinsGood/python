{
 "cells": [
  {
   "cell_type": "code",
   "execution_count": 82,
   "metadata": {},
   "outputs": [
    {
     "name": "stdout",
     "output_type": "stream",
     "text": [
      "\n",
      "Starting point: 5\n",
      "\n",
      "\tStep 5: 1.0\n",
      "\n",
      "Completed in: 5 steps\n",
      "Time wasted: 5 seconds\n",
      "\n",
      "Mission complete\n"
     ]
    }
   ],
   "source": [
    "#   Collatz conjecture script\n",
    "\n",
    "#   Takes a number (n) and:\n",
    "\n",
    "#           if it is even divides by two\n",
    "#           if it is odd multiplies by 3 and adds 1\n",
    "\n",
    "#   Counts how many steps taken to reach a final outcome of 1\n",
    "\n",
    "#   Returns the value of the counter\n",
    "\n",
    "from time import sleep\n",
    "from IPython.display import clear_output as clear\n",
    "\n",
    "def collatz(number):\n",
    "\n",
    "    clear()\n",
    "    n = number\n",
    "    c = 0\n",
    "    \n",
    "    def output(c,n):\n",
    "        \n",
    "        print(f'\\nStarting point: {number}\\n')\n",
    "        print(f'\\tStep {c}: {n}')\n",
    "        \n",
    "        if n == 1:\n",
    "            print(f'\\nCompleted in: {c} steps')\n",
    "            print(f'Time wasted: {c} seconds')\n",
    "            print(f'\\nMission complete')\n",
    "        else:\n",
    "            print(f'\\nCompleted in: -- steps')\n",
    "            print(f'Time wasted: {c} seconds')\n",
    "        \n",
    "        sleep(1)\n",
    "        clear(wait=True)\n",
    "\n",
    "    while n > 1:\n",
    "        \n",
    "        if n % 2 == 0:\n",
    "            n = n / 2\n",
    "            c += 1\n",
    "            output(c,n)\n",
    "        \n",
    "        else:\n",
    "            n = (n * 3) + 1\n",
    "            c += 1\n",
    "            output(c,n)\n",
    "    \n",
    "    #output(c,n)\n",
    "    \n",
    "collatz(int(input('Enter a starting value for the Collatz Conjecture:')))"
   ]
  },
  {
   "cell_type": "code",
   "execution_count": null,
   "metadata": {},
   "outputs": [],
   "source": []
  }
 ],
 "metadata": {
  "kernelspec": {
   "display_name": "Python 3",
   "language": "python",
   "name": "python3"
  },
  "language_info": {
   "codemirror_mode": {
    "name": "ipython",
    "version": 3
   },
   "file_extension": ".py",
   "mimetype": "text/x-python",
   "name": "python",
   "nbconvert_exporter": "python",
   "pygments_lexer": "ipython3",
   "version": "3.7.3"
  }
 },
 "nbformat": 4,
 "nbformat_minor": 2
}
